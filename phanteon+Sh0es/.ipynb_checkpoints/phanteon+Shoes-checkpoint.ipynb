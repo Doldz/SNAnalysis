{
 "cells": [
  {
   "cell_type": "code",
   "execution_count": 1,
   "id": "6c08a1ac",
   "metadata": {},
   "outputs": [],
   "source": [
    "import matplotlib.pyplot as plt\n",
    "import numpy as np\n",
    "from tqdm import tqdm as tqdm\n",
    "from astropy.constants import c\n",
    "import pandas as pd\n",
    "from getdist import plots, MCSamples,mcsamples"
   ]
  },
  {
   "cell_type": "code",
   "execution_count": 2,
   "id": "adbb554c",
   "metadata": {},
   "outputs": [],
   "source": [
    "def logMetropolisHastings(logTargetProbability,size = 10000):\n",
    "    #Q = lambda x,y : np.exp(-(x-y)**2/2)/(2*np.pi) it's simmetric it's useless\n",
    "    maxs = np.array([1,1])\n",
    "    mins = np.array([0,0])\n",
    "    initialPoint = np.array([0.7,0.3])\n",
    "    chain = initialPoint\n",
    "    currentPosition = initialPoint\n",
    "    for i in tqdm(range(size)):\n",
    "        newPosition = (maxs-mins) * np.random.uniform(0,1) + mins\n",
    "        #newPosition = np.random.multivariate_normal(currentPosition,np.eye(len(initialPoint))*0.3)\n",
    "        a = logTargetProbability(newPosition) - logTargetProbability(currentPosition)\n",
    "        if np.random.uniform(0,1) <= np.exp(a):\n",
    "            currentPosition = newPosition\n",
    "        chain = np.vstack((chain,currentPosition))\n",
    "    return chain"
   ]
  },
  {
   "cell_type": "code",
   "execution_count": 3,
   "id": "d83176e0",
   "metadata": {},
   "outputs": [],
   "source": [
    "def integrate1D(function,extremes,size = 100):\n",
    "    #metodo di calcolo di integrali senza singolarità negli estremi,\n",
    "    #metodo dei trapezioidi iterati\n",
    "    a,b = extremes\n",
    "    result = (function(a)+function(b))*0.5\n",
    "    for i in range(size):\n",
    "        point = a + i*(b-a)/size\n",
    "        result += function(point)\n",
    "    return result*(b-a)/size\n",
    "\n",
    "def simpson(function,extremes,steps):\n",
    "    a,b = extremes\n",
    "    h = (b-a)/steps\n",
    "    summ = function(a) + function(b)\n",
    "    for i in range(steps):\n",
    "        if i % 2 == 0:\n",
    "            summ += 2*function(a+h*i)\n",
    "        else:\n",
    "            summ += 4*function(a+h*i)\n",
    "    return summ*h/3\n",
    "\n",
    "def integralSimpson(function,extremes, err = 0.01):\n",
    "    a,b = extremes\n",
    "    steps = 16\n",
    "    needSteps = ((b-a)/np.sqrt((err*3*(b-a)**2)/(4*steps**2*np.abs(simpson(function,extremes,steps)-simpson(function,extremes,int(steps*0.5))))).astype(int))\n",
    "    return simpson(function,extremes,needSteps)"
   ]
  },
  {
   "cell_type": "code",
   "execution_count": 4,
   "id": "90a7c318",
   "metadata": {},
   "outputs": [],
   "source": [
    "tbl = pd.read_csv('Pantheon+SH0ES.dat',delim_whitespace = 1)\n",
    "z = np.array(tbl['zHD'])\n",
    "exp = np.array(tbl['MU_SH0ES'])\n",
    "mtrxTbl = np.loadtxt(\"Pantheon+SH0ES_STAT+SYS.cov\")\n",
    "covMat = np.reshape(mtrxTbl,(1701,1701))\n",
    "invCov = np.linalg.inv(covMat)"
   ]
  },
  {
   "cell_type": "code",
   "execution_count": 5,
   "id": "a60e1220",
   "metadata": {},
   "outputs": [],
   "source": [
    "def teoModel(theta):\n",
    "    h,omega_m = theta\n",
    "    integrando = lambda z: 1/(np.sqrt(omega_m*(1+z)**3+1-omega_m))\n",
    "    extremesInt = [0,z]\n",
    "    d_l_tilde = (1+z)*c.to(\"km/s\").value/100*simpson(integrando,extremesInt,100)\n",
    "    #a = 1/(1+z)\n",
    "    #d_l_tilde = (1+z)*c.to(\"km/s\").value/100*(eta(1,omega_m)-eta(a,omega_m))\n",
    "    return (25 - 5*np.log10(h) + 5 * np.log10(d_l_tilde))\n",
    "\n",
    "def eta(a,omega_m):\n",
    "    s = ((1- omega_m)/omega_m)**(1/3)\n",
    "    return 2*(s**3+1)**(1/2)*(1/a**4-0.1540*s/a**3+0.4304*s**2/a**2+0.19097*s**3/a+0.066941*s**4)**(-1/8)"
   ]
  },
  {
   "cell_type": "code",
   "execution_count": 6,
   "id": "9ff6dd52",
   "metadata": {},
   "outputs": [],
   "source": [
    "def chi2(theta):\n",
    "    vector = (exp - teoModel(theta))\n",
    "    transposed = np.transpose(vector)\n",
    "    temp = np.matmul(invCov,vector)\n",
    "    return np.matmul(transposed, temp)"
   ]
  },
  {
   "cell_type": "code",
   "execution_count": 7,
   "id": "23bf3684",
   "metadata": {},
   "outputs": [],
   "source": [
    "def logPosterior(theta):\n",
    "    lp = logPrior(theta)\n",
    "    if not np.isfinite(lp):\n",
    "        return -np.inf\n",
    "    else:\n",
    "        return lp + logLike(theta)"
   ]
  },
  {
   "cell_type": "code",
   "execution_count": 8,
   "id": "4b624ee9",
   "metadata": {},
   "outputs": [],
   "source": [
    "def logLike(theta):\n",
    "    return -chi2(theta)/2"
   ]
  },
  {
   "cell_type": "code",
   "execution_count": 9,
   "id": "8289cfd9",
   "metadata": {},
   "outputs": [],
   "source": [
    "def logPrior(theta):\n",
    "    h,omega_m = theta\n",
    "    if  (0 < omega_m < 1) & (0 < h < 1) : \n",
    "        return 0.0\n",
    "    else:\n",
    "        return -np.inf"
   ]
  },
  {
   "cell_type": "code",
   "execution_count": 10,
   "id": "0b6aa401",
   "metadata": {},
   "outputs": [
    {
     "name": "stderr",
     "output_type": "stream",
     "text": [
      "100%|███████████████████████████████████████████████████████████| 300000/300000 [45:24<00:00, 110.11it/s]\n"
     ]
    }
   ],
   "source": [
    "catena = logMetropolisHastings(logPosterior,300000)"
   ]
  },
  {
   "cell_type": "code",
   "execution_count": 13,
   "id": "94a19dda",
   "metadata": {},
   "outputs": [
    {
     "name": "stdout",
     "output_type": "stream",
     "text": [
      "Removed no burn in\n"
     ]
    }
   ],
   "source": [
    "names = labels = ['h','\\Omega_m']\n",
    "samples = MCSamples(samples=catena,names = names,labels = labels)\n",
    "samples.saveAsText('samples300')"
   ]
  },
  {
   "cell_type": "code",
   "execution_count": 14,
   "id": "6764df0f",
   "metadata": {},
   "outputs": [
    {
     "data": {
      "image/png": "[encoded data removed]",
      "text/plain": [
       "<Figure size 400x400 with 3 Axes>"
      ]
     },
     "metadata": {},
     "output_type": "display_data"
    }
   ],
   "source": [
    "g = plots.get_subplot_plotter()\n",
    "g.triangle_plot(samples, filled=True,title_limit=1)\n",
    " # first title limit (for 1D plots) is 68% by default"
   ]
  },
  {
   "cell_type": "code",
   "execution_count": null,
   "id": "c45959fc",
   "metadata": {},
   "outputs": [],
   "source": []
  }
 ],
 "metadata": {
  "kernelspec": {
   "display_name": "Python 3 (ipykernel)",
   "language": "python",
   "name": "python3"
  },
  "language_info": {
   "codemirror_mode": {
    "name": "ipython",
    "version": 3
   },
   "file_extension": ".py",
   "mimetype": "text/x-python",
   "name": "python",
   "nbconvert_exporter": "python",
   "pygments_lexer": "ipython3",
   "version": "3.9.18"
  }
 },
 "nbformat": 4,
 "nbformat_minor": 5
}
